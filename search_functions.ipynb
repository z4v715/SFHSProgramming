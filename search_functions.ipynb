{
 "cells": [
  {
   "cell_type": "markdown",
   "id": "1bbdbb5f",
   "metadata": {},
   "source": [
    "# Search Functions"
   ]
  },
  {
   "cell_type": "markdown",
   "id": "f62ed1fd",
   "metadata": {},
   "source": [
    "## States, Actions, Transitions"
   ]
  },
  {
   "cell_type": "markdown",
   "id": "6391b690",
   "metadata": {},
   "source": [
    "### Introduction"
   ]
  },
  {
   "cell_type": "markdown",
   "id": "581e9815",
   "metadata": {},
   "source": [
    "For each different node, there are different states, actions and transitions that tell us a lot about what is happening at that point in the graph."
   ]
  },
  {
   "cell_type": "markdown",
   "id": "69b02898",
   "metadata": {},
   "source": [
    "states - describe the value of a node or the current state of the graph as well as relative position<br>\n",
    "actions - describe where the node leads to<br>\n",
    "transitions - what the graph looks like after a node has been gone to, the state after a node has been traveled to, what actions were taken to get somewhere"
   ]
  },
  {
   "cell_type": "markdown",
   "id": "ddaa40e2",
   "metadata": {},
   "source": [
    "### Metrics"
   ]
  },
  {
   "cell_type": "markdown",
   "id": "fb1c2a72",
   "metadata": {},
   "source": [
    "Identifying the correct parts of a search function is an crucial part of what makes search functionality fast and efficient.<br>\n",
    "For example, ensuring one looks at the transitions in the most optimal way to take the best actions is extremely important to finding the fastest path between two things.<br><br>\n",
    "How you look at and consider actions completely depends on the search function implemented, but using different metrics and adding more detail to how your algorithm considers states can greatly impact how fast the graph is traversed."
   ]
  },
  {
   "cell_type": "markdown",
   "id": "30a1d1cd",
   "metadata": {},
   "source": [
    "## Graph Algorithms"
   ]
  },
  {
   "cell_type": "markdown",
   "id": "fd1a461d",
   "metadata": {},
   "source": [
    "Graph algorithms can be used to better analyze complex node graphs, search for items in a tree quickly, or even to calculate how long it will take to get somewhere. These algorithms could be compared to something like Google Maps which analyzes each node and determines to which node would moving be more optimal."
   ]
  },
  {
   "cell_type": "markdown",
   "id": "81eb0c8f",
   "metadata": {},
   "source": [
    "There are two main search algorithms were going to focus on today: Breadth First Search (BFS) and Depth First Search (DFS). Each of these different algorithms uses a different kind of data structure for how it considers nodes."
   ]
  },
  {
   "cell_type": "markdown",
   "id": "76c2b688",
   "metadata": {},
   "source": [
    "BFS: Queue (first in, first out) <br>\n",
    "DFS: Stack (last in, first out)"
   ]
  },
  {
   "cell_type": "markdown",
   "id": "6ccc26ae",
   "metadata": {},
   "source": [
    "Our goal for this upcoming project will be to find the shortest path in a given problem. "
   ]
  },
  {
   "cell_type": "code",
   "execution_count": null,
   "id": "beaa21dc",
   "metadata": {},
   "outputs": [],
   "source": [
    "\"\"\"\n",
    "A class made to define the functionality behind a node.\n",
    "Has two attributes:\n",
    " 1. Num = the number node, used for identification\n",
    " 2. Children = the children that are under the node, used in algorithms to get new nodes to move to\n",
    "\"\"\"\n",
    "\n",
    "class Node:\n",
    "\n",
    "    def __init__(self, node, *nodes): # Notice here we are using the built-in Python class function __init__\n",
    "\n",
    "        self.num = node \n",
    "        self.children = list(nodes)\n",
    "\n",
    "    def __repr__(self): # There functions are called \"dunder\" functions (double underline)\n",
    "\n",
    "        return f\"{self.num}: {self.children}\\n\" # When class is printed\n",
    "\n",
    "    def __contains__(self, item): # Or sometimes magic methods because they require no prior definition\n",
    "\n",
    "        return item == self.num # How class handles \"in\"\n",
    "    \n",
    "    def __eq__(self, item): # They are helpful in allowing us to create custom functionality of classes\n",
    "        \n",
    "        return item == self.num # How class handles \"==\"\n",
    "\n",
    "    def add_children(self, children):\n",
    "\n",
    "        self.children = [Node(c.num, None) for c in children]\n"
   ]
  },
  {
   "cell_type": "code",
   "execution_count": null,
   "id": "f4ae817a",
   "metadata": {},
   "outputs": [],
   "source": [
    "\"\"\"\n",
    "This tree class allows us to handle and manage our nodes. All nodes are placed into this class\n",
    "and allow us to actually use the search functions we define.\n",
    "\"\"\"\n",
    "\n",
    "class Tree:\n",
    "\n",
    "    def __init__(self):\n",
    "\n",
    "        self.nodes = list() # Variable within class defined here\n",
    "\n",
    "    def __repr__(self):\n",
    "\n",
    "        return f\"NODES: {self.nodes}\"\n",
    "\n",
    "    def add_node(self, node): # Just adds our node to a list of nodes contained in the class\n",
    "\n",
    "        self.nodes.append(node)\n",
    "\n",
    "    def get_node(self, node): # Getting a node by its number instead of nesting Node objects\n",
    "\n",
    "        if node not in self.nodes:\n",
    "            return Node(node)\n",
    "\n",
    "        return self.nodes[self.nodes.index(node)]"
   ]
  },
  {
   "cell_type": "code",
   "execution_count": null,
   "id": "5922d1df",
   "metadata": {},
   "outputs": [],
   "source": [
    "tree = Tree() # Instantiate an empty tree\n",
    "\n",
    "tree.add_node(Node(0, 1, 2, 3, 4, 5)) # add node 0 with children 1, 2, 3, 4, and 5\n",
    "\n",
    "tree.add_node(Node(1, 6, 7))\n",
    "tree.add_node(Node(2, 8))\n",
    "\n",
    "tree.add_node(Node(3, 9, 10)) # add node 3 with children 9, and 10\n",
    "tree.add_node(Node(4, 11))\n",
    "tree.add_node(Node(5, 12))\n",
    "\n",
    "tree.add_node(Node(6, 13))\n",
    "tree.add_node(Node(7, 14, 15, 16))\n",
    "tree.add_node(Node(8, 17))\n",
    "\n",
    "print(tree.nodes) # Tree should output the nodes based on they were defined in their __repr__ method"
   ]
  },
  {
   "cell_type": "markdown",
   "id": "1c3d40db",
   "metadata": {},
   "source": [
    "### Breadth First Search (BFS)"
   ]
  },
  {
   "cell_type": "markdown",
   "id": "05f5b190",
   "metadata": {},
   "source": [
    "Since BFS uses a queue, it typically tends to explore in different regions very shallowly than focusing in on one path."
   ]
  },
  {
   "cell_type": "markdown",
   "id": "fc6b41bf",
   "metadata": {},
   "source": [
    "The pattern of this algorithm is the following:<br>\n",
    "1. Check if the frontier is empty (meaning we have no other nodes to move to)\n",
    "\n",
    "2. Get the next node since the frontier is not empty, this depends on if you are using BFS or DFS\n",
    "\n",
    "3. Put that node in your explored list, to prevent going to the same nodes and to keep track of the path made\n",
    "\n",
    "4. Put the children of the current node into the frontier\n",
    "\n",
    "5. Check to see if one of those nodes is the target"
   ]
  },
  {
   "cell_type": "code",
   "execution_count": null,
   "id": "98f229db",
   "metadata": {},
   "outputs": [
    {
     "name": "stdout",
     "output_type": "stream",
     "text": [
      "1: 0: [1, 2, 3, 4, 5]\n",
      "\n",
      "2: 1: [6, 7]\n",
      "\n",
      "3: 2: [8]\n",
      "\n",
      "4: 3: [9, 10]\n",
      "\n",
      "5: 4: [11]\n",
      "\n",
      "6: 5: [12]\n",
      "\n",
      "7: 6: [13]\n",
      "\n",
      "8: 7: [14, 15, 16]\n",
      "\n",
      "9: 8: [17]\n",
      "\n"
     ]
    }
   ],
   "source": [
    "N1 = 0\n",
    "N2 = 17\n",
    "\n",
    "def bfs_search(n1, n2):\n",
    "\n",
    "    explored = list() # Empty list of explored\n",
    "\n",
    "    frontier = list() \n",
    "    frontier.append(n1) # Add only our first node here\n",
    "\n",
    "    while True:\n",
    "\n",
    "        if len(frontier) == 0: # If the frontier is empty, we can assume there is no path\n",
    "            return None\n",
    "        \n",
    "        next_node = tree.get_node(frontier.pop(0))\n",
    "\n",
    "        explored.append(next_node)\n",
    "\n",
    "        for node in next_node.children: # Get the next nodes\n",
    "            \n",
    "            if node not in explored:\n",
    "                frontier.append(node) # If they are not explored already add them to frontier\n",
    "            if node == n2:\n",
    "                return explored   \n",
    "\n",
    "path = bfs_search(N1, N2)\n",
    "\n",
    "if path:\n",
    "    for i in range(len(path)):\n",
    "        print(f\"{i + 1}: {path[i]}\") # Paths tend to shallowly explore each different branch available\n",
    "else:\n",
    "    print(f\"No path from {N1} to {N2}.\")\n"
   ]
  },
  {
   "cell_type": "markdown",
   "id": "d3d96e84",
   "metadata": {},
   "source": [
    "### Depth First Search (DFS)"
   ]
  },
  {
   "cell_type": "markdown",
   "id": "cfbcb48d",
   "metadata": {},
   "source": [
    "Depth first search is similar to Breadth First Search in the general pattern of the algorithm. However, DFS uses a stack data structure instead of a queue data structure meaning it will go farther down specific branches than shallowly traversing each different branch."
   ]
  },
  {
   "cell_type": "markdown",
   "id": "f610c953",
   "metadata": {},
   "source": [
    "The frontier will pop the last node instead of the first here."
   ]
  },
  {
   "cell_type": "code",
   "execution_count": null,
   "id": "b2d152bd",
   "metadata": {},
   "outputs": [
    {
     "name": "stdout",
     "output_type": "stream",
     "text": [
      "1: 0: [1, 2, 3, 4, 5]\n",
      "\n",
      "2: 5: [12]\n",
      "\n",
      "3: 12: []\n",
      "\n",
      "4: 4: [11]\n",
      "\n",
      "5: 11: []\n",
      "\n",
      "6: 3: [9, 10]\n",
      "\n",
      "7: 10: []\n",
      "\n",
      "8: 9: []\n",
      "\n",
      "9: 2: [8]\n",
      "\n",
      "10: 8: [17]\n",
      "\n"
     ]
    }
   ],
   "source": [
    "N1 = 0\n",
    "N2 = 17\n",
    "\n",
    "def bfs_search(n1, n2):\n",
    "\n",
    "    explored = list()\n",
    "\n",
    "    frontier = list()\n",
    "    frontier.append(n1)\n",
    "\n",
    "    while True:\n",
    "\n",
    "        if len(frontier) == 0:\n",
    "            return None\n",
    "        \n",
    "        next_node = tree.get_node(frontier.pop(-1)) # Getting the last in the frontier\n",
    "\n",
    "        explored.append(next_node)\n",
    "\n",
    "        for node in next_node.children:\n",
    "            frontier.append(node)\n",
    "            if node == n2:\n",
    "                return explored   \n",
    "\n",
    "path = bfs_search(N1, N2)\n",
    "\n",
    "if path:\n",
    "    for i in range(len(path)):\n",
    "        print(f\"{i + 1}: {path[i]}\") # Paths should go down one branch at a time as far as they can\n",
    "else:\n",
    "    print(f\"No path from {N1} to {N2}.\")"
   ]
  },
  {
   "cell_type": "markdown",
   "id": "6c96fbdc",
   "metadata": {},
   "source": [
    "## Project Hints"
   ]
  },
  {
   "cell_type": "markdown",
   "id": "a54d7dd9",
   "metadata": {},
   "source": [
    "You may want to look at libraries like requests, BeautifulSoup, and other HTML web scrapers to get data."
   ]
  },
  {
   "cell_type": "markdown",
   "id": "9184ccfd",
   "metadata": {},
   "source": [
    "Consider using a metric like word similarility (which we may touch on later) using libraries like word2vec and cosine similarity."
   ]
  }
 ],
 "metadata": {
  "kernelspec": {
   "display_name": ".venv",
   "language": "python",
   "name": "python3"
  },
  "language_info": {
   "codemirror_mode": {
    "name": "ipython",
    "version": 3
   },
   "file_extension": ".py",
   "mimetype": "text/x-python",
   "name": "python",
   "nbconvert_exporter": "python",
   "pygments_lexer": "ipython3",
   "version": "3.12.4"
  }
 },
 "nbformat": 4,
 "nbformat_minor": 5
}

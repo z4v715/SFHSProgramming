{
 "cells": [
  {
   "cell_type": "markdown",
   "id": "f1e16181",
   "metadata": {},
   "source": [
    "# The Basics 0\n",
    "The very start of learning any programming language has to start with Hello World."
   ]
  },
  {
   "cell_type": "code",
   "execution_count": null,
   "id": "975a18d8",
   "metadata": {},
   "outputs": [
    {
     "name": "stdout",
     "output_type": "stream",
     "text": [
      "Hello World!\n"
     ]
    }
   ],
   "source": [
    "print(\"Hello World!\")"
   ]
  },
  {
   "cell_type": "markdown",
   "id": "c36eeaf2",
   "metadata": {},
   "source": [
    "## Variables\n",
    "Variables are very flexible in Python"
   ]
  },
  {
   "cell_type": "code",
   "execution_count": 29,
   "id": "1049a65e",
   "metadata": {},
   "outputs": [
    {
     "name": "stdout",
     "output_type": "stream",
     "text": [
      "String var: something\n",
      "Num var: 388\n"
     ]
    }
   ],
   "source": [
    "var = \"something\" # variables can really be anything\n",
    "print(f\"String var: {var}\")\n",
    "\n",
    "var = 388\n",
    "print(f\"Num var: {var}\")"
   ]
  },
  {
   "cell_type": "markdown",
   "id": "ecd2b825",
   "metadata": {},
   "source": [
    "Variables can also be weirder things like functions and classes...\n",
    "\n"
   ]
  },
  {
   "cell_type": "markdown",
   "id": "44fe5588",
   "metadata": {},
   "source": [
    "## Functions\n",
    "Functions allow us to process multiple values and modify them in some way.\n",
    "\n",
    "Using whats called a LAMBDA function, we can also assign variables to carry function values.\n",
    "'f' in this case represents our function."
   ]
  },
  {
   "cell_type": "code",
   "execution_count": 30,
   "id": "e82a9538",
   "metadata": {},
   "outputs": [
    {
     "name": "stdout",
     "output_type": "stream",
     "text": [
      "13\n",
      "7\n"
     ]
    }
   ],
   "source": [
    "# Regular function\n",
    "def add(x, y):\n",
    "    return x + y # Value we want to return,\n",
    "\n",
    "print(add(6, 7)) # Printing out the result\n",
    "\n",
    "var = add(6, 7) # Result can also be stored\n",
    "\n",
    "# LAMBDA function\n",
    "var = lambda x, y : add(x, y)\n",
    "print(var(2, 5))"
   ]
  },
  {
   "cell_type": "markdown",
   "id": "0d9f7592",
   "metadata": {},
   "source": [
    "Functions can also be defined with no set amount of variables.\n",
    "\n",
    "This is called packing and is represented by the * sign before the parameters you want.\n",
    "Later we will talk more about tuples and lists, but for now just know that packing returns a tuple."
   ]
  },
  {
   "cell_type": "code",
   "execution_count": 31,
   "id": "19410e05",
   "metadata": {},
   "outputs": [
    {
     "name": "stdout",
     "output_type": "stream",
     "text": [
      "Param received: (5, 6)\n",
      "11\n",
      "Param received: (100, 200, 300, 500)\n",
      "1100\n",
      "Param received: (-5, 5)\n",
      "0\n"
     ]
    }
   ],
   "source": [
    "def add(*param):\n",
    "    \n",
    "    print(f\"Param received: {param}\")\n",
    "    return sum(param) # Takes the sum of everything in a tuple or list\n",
    "\n",
    "print(add(5, 6))\n",
    "print(add(100, 200, 300, 500))\n",
    "print(add(-5, 5))"
   ]
  },
  {
   "cell_type": "markdown",
   "id": "f6fc2b1c",
   "metadata": {},
   "source": [
    "The () represent a tuple or set list of different items. Later we will go through some of Python's most versatile and interesting data types. But for now, just know the * sign returns a tuple."
   ]
  },
  {
   "cell_type": "markdown",
   "id": "02b1cefb",
   "metadata": {},
   "source": [
    "## Classes\n",
    "Classes in Python are another more complex part of the language as they contain numerous different functions that define their functionality.\n",
    "\n",
    "Functions built into Python like __init__ are used to initalize the class. the print_something function is custom to our class, and accepts the parameter of self in order to be used inside other functions of our class.\n",
    "\n",
    "Storing a class in a variable is often extremely helpful as to avoid creating the same instance of a class multiple times, or better to hold value in that class."
   ]
  },
  {
   "cell_type": "code",
   "execution_count": 32,
   "id": "2e5425d7",
   "metadata": {},
   "outputs": [
    {
     "name": "stdout",
     "output_type": "stream",
     "text": [
      "I made a class!\n",
      "Goodbye world...\n"
     ]
    }
   ],
   "source": [
    "class Something:\n",
    "    \n",
    "    def __init__(self):\n",
    "        print(\"I made a class!\")\n",
    "        \n",
    "    def print_something(self):\n",
    "        print(\"Goodbye world...\")\n",
    "        \n",
    "var = Something() # Creating a new instance of Something\n",
    "var.print_something() # Here the \"self\" argument comes with using the \"var\" variable to call print_something"
   ]
  },
  {
   "cell_type": "markdown",
   "id": "085b71c8",
   "metadata": {},
   "source": [
    "To define the things that run in the first place, we will need conditionals."
   ]
  },
  {
   "cell_type": "markdown",
   "id": "399f13b4",
   "metadata": {},
   "source": [
    "## Conditionals\n",
    "Conditionals are the logic that defines what code executes and what code doesn't (in a nutshell). Things like if, else, else if are simple examples of conditionals."
   ]
  },
  {
   "cell_type": "code",
   "execution_count": 19,
   "id": "8b6d901f",
   "metadata": {},
   "outputs": [
    {
     "name": "stdout",
     "output_type": "stream",
     "text": [
      "Both are positive!\n",
      "Big numbers\n",
      "X is positive\n",
      "X is larger than Y!\n"
     ]
    }
   ],
   "source": [
    "x = 10\n",
    "y = 5\n",
    "\n",
    "# Simple if blocks\n",
    "if x > 0 and y > 0:\n",
    "    print(\"Both are positive!\")\n",
    "    \n",
    "if x > 5 or y > 5:\n",
    "    print(\"Big numbers\")\n",
    "\n",
    "# If-else block\n",
    "if x > 0:\n",
    "    print(\"X is positive\")\n",
    "else:\n",
    "    print(\"X is negative\")\n",
    "\n",
    "# If-elif-else block\n",
    "if x - y > 0:\n",
    "    print(\"X is larger than Y!\")\n",
    "elif x - y == 0:\n",
    "    print(\"X equals Y\")\n",
    "else:\n",
    "    print(\"Y is larger than X\")"
   ]
  }
 ],
 "metadata": {
  "kernelspec": {
   "display_name": ".venv (3.13.7)",
   "language": "python",
   "name": "python3"
  },
  "language_info": {
   "codemirror_mode": {
    "name": "ipython",
    "version": 3
   },
   "file_extension": ".py",
   "mimetype": "text/x-python",
   "name": "python",
   "nbconvert_exporter": "python",
   "pygments_lexer": "ipython3",
   "version": "3.13.7"
  }
 },
 "nbformat": 4,
 "nbformat_minor": 5
}

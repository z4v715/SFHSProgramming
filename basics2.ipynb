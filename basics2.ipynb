{
 "cells": [
  {
   "cell_type": "markdown",
   "id": "f3c78d4c",
   "metadata": {},
   "source": [
    "# The Basics 1 "
   ]
  },
  {
   "cell_type": "markdown",
   "id": "ebc851ff",
   "metadata": {},
   "source": [
    "## Lists, Tuples, and Dictionaries"
   ]
  },
  {
   "cell_type": "markdown",
   "id": "bb5de3f2",
   "metadata": {},
   "source": [
    "### Lists [ ]"
   ]
  },
  {
   "cell_type": "markdown",
   "id": "9bda16d7",
   "metadata": {},
   "source": [
    "Lists are very flexible arrays that allow programmers to easily add or remove elements. In Python, lists can be retrieved via indexing with [i], i being the desired 0-based index that you want to get."
   ]
  },
  {
   "cell_type": "code",
   "execution_count": 11,
   "id": "28f669c3",
   "metadata": {},
   "outputs": [
    {
     "name": "stdout",
     "output_type": "stream",
     "text": [
      "3\n",
      "[4, 5, 6, 7]\n",
      "[3, 4, 5]\n",
      "7\n"
     ]
    }
   ],
   "source": [
    "arr = [3, 4, 5, 6, 7]\n",
    "\n",
    "print(arr[0])\n",
    "print(arr[1:]) # From 1 to len(arr)\n",
    "print(arr[:3]) # From 0 to 3\n",
    "\n",
    "print(arr[-1]) # The -1 here indexes the last element of the list"
   ]
  },
  {
   "cell_type": "markdown",
   "id": "22ce285f",
   "metadata": {},
   "source": [
    "We use the functions remove, pop and append to change the elements within the list."
   ]
  },
  {
   "cell_type": "code",
   "execution_count": 12,
   "id": "a61ac6f4",
   "metadata": {},
   "outputs": [
    {
     "name": "stdout",
     "output_type": "stream",
     "text": [
      "[4, 5, 6, 7]\n",
      "[4, 5, 6, 7, 8]\n",
      "[5, 6, 7, 8]\n"
     ]
    }
   ],
   "source": [
    "arr.remove(3) # Removing the element 3\n",
    "print(arr)\n",
    "\n",
    "arr.append(8)\n",
    "print(arr)\n",
    "\n",
    "arr.pop(0) # Remove the element at index 0\n",
    "print(arr)"
   ]
  },
  {
   "cell_type": "markdown",
   "id": "349576ce",
   "metadata": {},
   "source": [
    "We can also directly change elements in the list by setting their values."
   ]
  },
  {
   "cell_type": "code",
   "execution_count": 13,
   "id": "d4baa972",
   "metadata": {},
   "outputs": [
    {
     "name": "stdout",
     "output_type": "stream",
     "text": [
      "[0, 6, 7, 100]\n"
     ]
    }
   ],
   "source": [
    "arr[0] = 0\n",
    "arr[-1] = 100\n",
    "\n",
    "print(arr)"
   ]
  },
  {
   "cell_type": "markdown",
   "id": "1eb007f3",
   "metadata": {},
   "source": [
    "### Tuples ( )"
   ]
  },
  {
   "cell_type": "markdown",
   "id": "da852686",
   "metadata": {},
   "source": [
    "Unlike lists, tuples are more rigid and strict of a data structure. They do not allow such things like directly setting values to desired indices or even functions to remove elements from them."
   ]
  },
  {
   "cell_type": "code",
   "execution_count": 23,
   "id": "2b84c972",
   "metadata": {},
   "outputs": [
    {
     "name": "stdout",
     "output_type": "stream",
     "text": [
      "0 10\n",
      "10\n"
     ]
    },
    {
     "ename": "TypeError",
     "evalue": "'tuple' object does not support item assignment",
     "output_type": "error",
     "traceback": [
      "\u001b[31m---------------------------------------------------------------------------\u001b[39m",
      "\u001b[31mTypeError\u001b[39m                                 Traceback (most recent call last)",
      "\u001b[36mCell\u001b[39m\u001b[36m \u001b[39m\u001b[32mIn[23]\u001b[39m\u001b[32m, line 6\u001b[39m\n\u001b[32m      3\u001b[39m \u001b[38;5;28mprint\u001b[39m(tup[\u001b[32m0\u001b[39m], tup[\u001b[32m1\u001b[39m])\n\u001b[32m      4\u001b[39m \u001b[38;5;28mprint\u001b[39m(tup[-\u001b[32m1\u001b[39m])\n\u001b[32m----> \u001b[39m\u001b[32m6\u001b[39m \u001b[43mtup\u001b[49m\u001b[43m[\u001b[49m\u001b[32;43m0\u001b[39;49m\u001b[43m]\u001b[49m = \u001b[32m10\u001b[39m \u001b[38;5;66;03m# We should get an error here, tuples are typically hard to modify\u001b[39;00m\n",
      "\u001b[31mTypeError\u001b[39m: 'tuple' object does not support item assignment"
     ]
    }
   ],
   "source": [
    "tup = (0, 10)\n",
    "\n",
    "print(tup[0], tup[1])\n",
    "print(tup[-1])\n",
    "\n",
    "tup[0] = 10 # We should get an error here, tuples are typically hard to modify"
   ]
  },
  {
   "cell_type": "markdown",
   "id": "4eba0a89",
   "metadata": {},
   "source": [
    "To remove and modify a tuple, we actually have to turn it into a list, yep."
   ]
  },
  {
   "cell_type": "code",
   "execution_count": 24,
   "id": "a18d44ff",
   "metadata": {},
   "outputs": [
    {
     "name": "stdout",
     "output_type": "stream",
     "text": [
      "[0, 10]\n",
      "(5, 10, 20)\n"
     ]
    }
   ],
   "source": [
    "tup = list(tup)\n",
    "print(tup)\n",
    "\n",
    "tup[0] = 5\n",
    "\n",
    "tup.append(20)\n",
    "tup = tuple(tup)\n",
    "\n",
    "print(tup) # Now we have a 3D coordinate!"
   ]
  },
  {
   "cell_type": "markdown",
   "id": "a8a8391c",
   "metadata": {},
   "source": [
    "### Dictionaries { }"
   ]
  },
  {
   "cell_type": "markdown",
   "id": "62bf0cb6",
   "metadata": {},
   "source": [
    "Dictionaries are used to set key-value pairs between different values. Dictionaries are as they sound like, you look up a term, and it has a meaning. In this case, Python uses a key to look up a value."
   ]
  },
  {
   "cell_type": "code",
   "execution_count": 26,
   "id": "66f5ea52",
   "metadata": {},
   "outputs": [
    {
     "name": "stdout",
     "output_type": "stream",
     "text": [
      "{'color': 'red', 'speed': 200}\n"
     ]
    }
   ],
   "source": [
    "car = dict()\n",
    "\n",
    "car[\"color\"] = \"red\"\n",
    "car[\"speed\"] = 200\n",
    "\n",
    "print(car)"
   ]
  },
  {
   "cell_type": "markdown",
   "id": "b74bcf76",
   "metadata": {},
   "source": [
    "Dictionaries can be also be defined in one line."
   ]
  },
  {
   "cell_type": "code",
   "execution_count": 28,
   "id": "c4233a6c",
   "metadata": {},
   "outputs": [
    {
     "name": "stdout",
     "output_type": "stream",
     "text": [
      "{'color': 'red', 'speed': 200}\n"
     ]
    }
   ],
   "source": [
    "car = {\"color\" : \"red\", \"speed\" : 200}\n",
    "print(car)"
   ]
  },
  {
   "cell_type": "markdown",
   "id": "746496af",
   "metadata": {},
   "source": [
    "Both keys and values are not limited to just strings. Numbers and even multiple numbers can be used as well."
   ]
  },
  {
   "cell_type": "code",
   "execution_count": 42,
   "id": "08bfbd88",
   "metadata": {},
   "outputs": [
    {
     "name": "stdout",
     "output_type": "stream",
     "text": [
      "{0: 'stopped', 100: 'average', 200: 'fast', 300: 'very fast'}\n",
      "{(0, 100): 'stopped to average', (200, 300): 'fast to very fast'}\n"
     ]
    }
   ],
   "source": [
    "speeds = {\n",
    "    0 : \"stopped\",\n",
    "    100 : \"average\",\n",
    "    200 : \"fast\",\n",
    "    300 : \"very fast\"\n",
    "}\n",
    "\n",
    "print(speeds)\n",
    "\n",
    "speeds = dict()\n",
    "speeds[(0, 100)] = \"stopped to average\"\n",
    "speeds[(200, 300)] = \"fast to very fast\" # Note here the (200, 300) has to be a tuple, because lists are not immutable\n",
    "\n",
    "print(speeds) # Now we have ranges of speeds"
   ]
  },
  {
   "cell_type": "markdown",
   "id": "404f6f59",
   "metadata": {},
   "source": [
    "To retrive these values we can do so by indexing."
   ]
  },
  {
   "cell_type": "code",
   "execution_count": 43,
   "id": "6dcae640",
   "metadata": {},
   "outputs": [
    {
     "name": "stdout",
     "output_type": "stream",
     "text": [
      "fast to very fast\n",
      "fast to very fast\n"
     ]
    }
   ],
   "source": [
    "# Both of these are acceptable ways to get values\n",
    "print(speeds[(200, 300)])\n",
    "\n",
    "print(speeds[200, 300])"
   ]
  },
  {
   "cell_type": "markdown",
   "id": "daf0bc8e",
   "metadata": {},
   "source": [
    "We can also remove pairs from the dictionary by their keys."
   ]
  },
  {
   "cell_type": "code",
   "execution_count": null,
   "id": "5432872c",
   "metadata": {},
   "outputs": [
    {
     "name": "stdout",
     "output_type": "stream",
     "text": [
      "{(0, 100): 'stopped to average'}\n"
     ]
    }
   ],
   "source": [
    "speeds.pop((200, 300))\n",
    "print(speeds)"
   ]
  },
  {
   "cell_type": "markdown",
   "id": "f351845c",
   "metadata": {},
   "source": [
    "## For and While Loops"
   ]
  },
  {
   "cell_type": "markdown",
   "id": "a0b2eb56",
   "metadata": {},
   "source": [
    "For and while loops allow programmers to avoid the repetitive task of indexing each and every element of an array, or allow a process to run until some condition is true/false. "
   ]
  },
  {
   "cell_type": "markdown",
   "id": "0d784339",
   "metadata": {},
   "source": [
    "### For Loops"
   ]
  },
  {
   "cell_type": "markdown",
   "id": "129f8cb4",
   "metadata": {},
   "source": [
    "For loops use Python's native \"range\" class to iterate through each element in some array (lists, dictionaries, tuples). Use the len function to measure the length of a Python array. Programmers can use both indices or direct variables to iterate through an array."
   ]
  },
  {
   "cell_type": "code",
   "execution_count": 57,
   "id": "5c17c1dd",
   "metadata": {},
   "outputs": [
    {
     "name": "stdout",
     "output_type": "stream",
     "text": [
      "Range: range(0, 5) -> [0, 1, 2, 3, 4]\n",
      "9\n",
      "90\n",
      "900\n",
      "9000\n",
      "90000\n",
      "9\n",
      "90\n",
      "900\n",
      "9000\n",
      "90000\n"
     ]
    }
   ],
   "source": [
    "nums = [9, 90, 900, 9000, 90000]\n",
    "\n",
    "print(f\"Range: {range(len(nums))} -> {list(range(len(nums)))}\")\n",
    "\n",
    "for i in range(len(nums)):\n",
    "    print(nums[i])\n",
    "\n",
    "for num in nums:\n",
    "    print(num)"
   ]
  },
  {
   "cell_type": "markdown",
   "id": "29b41524",
   "metadata": {},
   "source": [
    "### While Loops"
   ]
  },
  {
   "cell_type": "markdown",
   "id": "bd3b9aaa",
   "metadata": {},
   "source": [
    "While loops don't necessarily have to end, and only continue when some condition is true."
   ]
  },
  {
   "cell_type": "code",
   "execution_count": null,
   "id": "a5f8779d",
   "metadata": {},
   "outputs": [
    {
     "name": "stdout",
     "output_type": "stream",
     "text": [
      "99999\n"
     ]
    }
   ],
   "source": [
    "total = 0\n",
    "while len(nums) != 0:\n",
    "\n",
    "    total += nums.pop(-1)\n",
    "\n",
    "print(total)"
   ]
  },
  {
   "cell_type": "code",
   "execution_count": null,
   "id": "210fbfd6",
   "metadata": {},
   "outputs": [
    {
     "name": "stdout",
     "output_type": "stream",
     "text": [
      "99999\n"
     ]
    }
   ],
   "source": [
    "total = 0\n",
    "while True: # The same thing as above just using the break keyword to escape the while loop instead\n",
    "\n",
    "    total += nums.pop(-1)\n",
    "    if len(nums) == 0:\n",
    "        break\n",
    "\n",
    "print(total)"
   ]
  }
 ],
 "metadata": {
  "kernelspec": {
   "display_name": ".venv",
   "language": "python",
   "name": "python3"
  },
  "language_info": {
   "codemirror_mode": {
    "name": "ipython",
    "version": 3
   },
   "file_extension": ".py",
   "mimetype": "text/x-python",
   "name": "python",
   "nbconvert_exporter": "python",
   "pygments_lexer": "ipython3",
   "version": "3.12.4"
  }
 },
 "nbformat": 4,
 "nbformat_minor": 5
}
